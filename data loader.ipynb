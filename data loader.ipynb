{
 "cells": [
  {
   "cell_type": "code",
   "execution_count": 5,
   "id": "010f5e2a-747a-48c8-bc8d-5fda3be91ce5",
   "metadata": {},
   "outputs": [],
   "source": [
    "#classification\n",
    "classification_files = {\n",
    "    \"adult\": {\"file\": \"./Shared_Dataset/classification/adult.csv\",\n",
    "              \"key\": None,\n",
    "              \"label\": \"INCOME\"},\n",
    "    \"auscredit\": {\"file\": \"./Shared_Dataset/classification/auscredit.csv\",\n",
    "                  \"key\": None,\n",
    "                  \"label\": \"Y\"},\n",
    "    \"bank\": {\"file\": \"./Shared_Dataset/classification/bank-additional-full.csv\",\n",
    "             \"key\": None,\n",
    "             \"label\": \"LABEL\"},\n",
    "    \"cervical\": {\"file\": \"./Shared_Dataset/classification/cervical.csv\",\n",
    "                 \"key\": None,\n",
    "                 \"label\": \"Biopsy\"},\n",
    "    \"iris\": {\"file\": \"./Shared_Dataset/classification/iris.csv\",\n",
    "             \"key\": None,\n",
    "             \"label\": \"SPECIES\"},\n",
    "    \"diabetes\": {\"file\": \"./Shared_Dataset/classification/pima-indians-diabetes.csv\",\n",
    "                 \"key\": None,\n",
    "                 \"label\": \"CLASS\"},\n",
    "    \"titanic\": {\"file\": \"./Shared_Dataset/classification/titanic-full.csv\",\n",
    "                \"key\": \"PASSENGER_ID\",\n",
    "                \"label\": \"SURVIVED\"}\n",
    "}\n",
    "    "
   ]
  },
  {
   "cell_type": "code",
   "execution_count": 1,
   "id": "e259fc0a-7485-4301-a7d3-47a4f89a4dde",
   "metadata": {},
   "outputs": [],
   "source": [
    "#regression\n",
    "regression_files = {\n",
    "    \"airbnb\": {\"file\": \"./Shared_Dataset/regression/airbnb.csv\",\n",
    "               \"key\": \"id\",\n",
    "               \"label\": \"availability_365\"},\n",
    "    \"bike\": {\"file\": \"./Shared_Dataset/regression/bike.csv\",\n",
    "             \"key\": None,\n",
    "             \"label\": \"days_since_2011\"},\n",
    "    \"house\": {\"file\": \"./Shared_Dataset/regression/boston-house-prices.csv\",\n",
    "              \"key\": \"ID\",\n",
    "              \"label\": \"MEDV\"},\n",
    "    \"walmart\": {\"file\": \"./Shared_Dataset/regression/walmart-train.csv\",\n",
    "                \"key\": None,\n",
    "                \"label\": \"ITEM_OUTLET_SALES\"}\n",
    "}\n"
   ]
  },
  {
   "cell_type": "code",
   "execution_count": 2,
   "id": "7b101719-9784-4f32-a5ab-86662850bd6a",
   "metadata": {},
   "outputs": [],
   "source": [
    "#create pandas dataframe with id"
   ]
  },
  {
   "cell_type": "code",
   "execution_count": 4,
   "id": "e1b08d0b-4685-4b4a-b02a-c6194dba21e9",
   "metadata": {},
   "outputs": [
    {
     "ename": "NameError",
     "evalue": "name 'classification_files' is not defined",
     "output_type": "error",
     "traceback": [
      "\u001b[1;31m---------------------------------------------------------------------------\u001b[0m",
      "\u001b[1;31mNameError\u001b[0m                                 Traceback (most recent call last)",
      "Cell \u001b[1;32mIn[4], line 5\u001b[0m\n\u001b[0;32m      1\u001b[0m \u001b[38;5;28;01mimport\u001b[39;00m \u001b[38;5;21;01mpandas\u001b[39;00m \u001b[38;5;28;01mas\u001b[39;00m \u001b[38;5;21;01mpd\u001b[39;00m\n\u001b[0;32m      3\u001b[0m classification_df \u001b[38;5;241m=\u001b[39m []\n\u001b[1;32m----> 5\u001b[0m \u001b[38;5;28;01mfor\u001b[39;00m file, link \u001b[38;5;129;01min\u001b[39;00m \u001b[43mclassification_files\u001b[49m\u001b[38;5;241m.\u001b[39mitems():\n\u001b[0;32m      6\u001b[0m     temp_key \u001b[38;5;241m=\u001b[39m link[\u001b[38;5;124m\"\u001b[39m\u001b[38;5;124mkey\u001b[39m\u001b[38;5;124m\"\u001b[39m]\n\u001b[0;32m      7\u001b[0m     temp_pf \u001b[38;5;241m=\u001b[39m pd\u001b[38;5;241m.\u001b[39mread_csv(link[\u001b[38;5;124m\"\u001b[39m\u001b[38;5;124mfile\u001b[39m\u001b[38;5;124m\"\u001b[39m])\n",
      "\u001b[1;31mNameError\u001b[0m: name 'classification_files' is not defined"
     ]
    }
   ],
   "source": [
    "import pandas as pd\n",
    "\n",
    "classification_df = []\n",
    "\n",
    "for file, link in classification_files.items():\n",
    "    temp_key = link[\"key\"]\n",
    "    temp_pf = pd.read_csv(link[\"file\"])\n",
    "    print(temp_pf.columns)\n",
    "    if temp_key is None:\n",
    "        temp_key = \"ID\"\n",
    "        temp_pf.insert(0, 'ID', range(0, len(temp_pf)))\n",
    "    classification_df.append({\n",
    "        \"file_name\": file,\n",
    "        \"pandas\": temp_pf,\n",
    "        \"key\": temp_key,\n",
    "        \"label\": link[\"label\"]\n",
    "    })"
   ]
  },
  {
   "cell_type": "code",
   "execution_count": null,
   "id": "8cbfa71b-c68e-4690-b1e1-6c6e4f713fdc",
   "metadata": {},
   "outputs": [],
   "source": [
    "import pickle\n",
    "\n",
    "with open('classification_dat.pkl', 'wb') as f:  # open a text file\n",
    "    pickle.dump(classification_df, f)\n"
   ]
  },
  {
   "cell_type": "code",
   "execution_count": null,
   "id": "924751df-a0fd-4087-a231-e8d9a5f757a5",
   "metadata": {},
   "outputs": [],
   "source": [
    "#with open('classification_dat.pkl', 'rb') as f:  # open a text file\n",
    "#    classification_df_new = pickle.load(f)"
   ]
  },
  {
   "cell_type": "code",
   "execution_count": 6,
   "id": "ccdb0894-8c44-48db-8516-5f417144767e",
   "metadata": {},
   "outputs": [],
   "source": [
    "regression_df = []\n",
    "\n",
    "for file, link in regression_files.items():\n",
    "    temp_key = link[\"key\"]\n",
    "    temp_pf = pd.read_csv(link[\"file\"])\n",
    "    if temp_key is None:\n",
    "        temp_key = \"ID\"\n",
    "        temp_pf.insert(0, 'ID', range(0, len(temp_pf)))\n",
    "    regression_df.append({\n",
    "        \"file_name\": file,\n",
    "        \"pandas\": temp_pf,\n",
    "        \"key\": temp_key,\n",
    "        \"label\": link[\"label\"]\n",
    "    })"
   ]
  },
  {
   "cell_type": "code",
   "execution_count": 8,
   "id": "587a6b34-4cdb-481f-ac84-21639d5e7ecc",
   "metadata": {},
   "outputs": [],
   "source": [
    "import pickle\n",
    "\n",
    "with open('regression_dat.pkl', 'wb') as f:  # open a text file\n",
    "    pickle.dump(regression_df, f)"
   ]
  }
 ],
 "metadata": {
  "kernelspec": {
   "display_name": "Python 3 (ipykernel)",
   "language": "python",
   "name": "python3"
  },
  "language_info": {
   "codemirror_mode": {
    "name": "ipython",
    "version": 3
   },
   "file_extension": ".py",
   "mimetype": "text/x-python",
   "name": "python",
   "nbconvert_exporter": "python",
   "pygments_lexer": "ipython3",
   "version": "3.11.6"
  }
 },
 "nbformat": 4,
 "nbformat_minor": 5
}
